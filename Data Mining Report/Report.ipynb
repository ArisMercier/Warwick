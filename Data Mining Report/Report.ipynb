{
 "cells": [
  {
   "cell_type": "markdown",
   "id": "b71b6513-58f4-4c14-b86b-0ae7fb7fe934",
   "metadata": {},
   "source": [
    "# Introduction\n",
    "\n",
    "What follows is a short report, based on the 2020 research article by Sathishkumar V E, Jangwoo Park and Yongyun Cho in the journal \"Computer Communications\"[1]. \n",
    "\n",
    "The article aims to use machine learning and data mining methods to predict the demand for shared bikes in metropolitan cities subject to specific parameters, the most notable of which are: time of day, month, and weather conditions.\n",
    "\n",
    "In this report we focus on two such methods: Linear Regression and Regression Trees. We read the data and use it to first plot several statistical diagrams, including Histograms, Scatter Diagrams and Violin Plots. We then compute four performance measures for each method, and use them to draw conclusions about the accuracy of our predictive models."
   ]
  },
  {
   "cell_type": "markdown",
   "id": "bb5f7e20-8aac-46d8-84d3-3c378ce1d43d",
   "metadata": {},
   "source": [
    "[1] [Sathishkumar V E, Jangwoo Park, and Yongyun Cho. 'Using data mining techniques for bike sharing demand prediction in metropolitan city.' Computer Communications, Vol.153, pp.353-366, March, 2020.](https://doi.org/10.1016/j.comcom.2020.02.007)"
   ]
  },
  {
   "cell_type": "code",
   "execution_count": null,
   "id": "82f35a30-de80-4894-95bb-c6c182004eb2",
   "metadata": {
    "jupyter": {
     "source_hidden": true
    },
    "tags": []
   },
   "outputs": [],
   "source": [
    "# Task 1: Import necessary libraries\n",
    "import numpy as np\n",
    "import matplotlib.pyplot as plt\n",
    "import pandas as pd\n",
    "import seaborn as sns\n",
    "\n",
    "from sklearn import linear_model\n",
    "from sklearn.model_selection import train_test_split\n",
    "from sklearn.metrics import r2_score\n",
    "from sklearn.tree import DecisionTreeRegressor"
   ]
  },
  {
   "cell_type": "code",
   "execution_count": null,
   "id": "d70eae07-e384-40c1-b4a1-cb65addbe1ce",
   "metadata": {
    "jupyter": {
     "source_hidden": true
    },
    "tags": []
   },
   "outputs": [],
   "source": [
    "# Task 2: Read SeoulBikeData_mod.csv into a Dataframe using pandas\n",
    "SBD = pd.read_csv('SeoulBikeData_mod.csv')\n",
    "\n",
    "# Task 3: Describe the DataFrame\n",
    "SBD.describe()"
   ]
  },
  {
   "cell_type": "markdown",
   "id": "85ce6136-ae4b-4b1c-baa8-834f6e11953f",
   "metadata": {},
   "source": [
    "<div style=\"font-size: 13px\"> <b>Table 1.</b> Descriptive statistics for the SeoulBikeData DataFrame. These summarise the central tendancy, dispersion and shape of the dataset's distribution. </div>"
   ]
  },
  {
   "cell_type": "markdown",
   "id": "0e319f77-ac6e-410b-b7a6-c8b78325e62c",
   "metadata": {},
   "source": [
    "To better understand the distribution of Rented Bike Count from the table above, we plot the following histogram and boxplot: <br>\n",
    "(These were purposely designed to look similar to the ones in the article.)"
   ]
  },
  {
   "cell_type": "code",
   "execution_count": null,
   "id": "8cc358a0-5c40-46b5-9aa8-fbbef750f4a9",
   "metadata": {
    "jupyter": {
     "source_hidden": true
    },
    "tags": []
   },
   "outputs": [],
   "source": [
    "# Extract a Series for 'Rented Bike Count' from the SBD dataset and name it 'Bike Count'\n",
    "BikeCount = SBD['Rented Bike Count']\n",
    "\n",
    "\n",
    "# Task 4: Plot a Histogram of Rented Bike Count. Below we rescale the two plots and\n",
    "# remove part of the frames to make them similar to the ones in Fig. 3 of the article\n",
    "\n",
    "# Histogram\n",
    "plt.rcParams[\"figure.figsize\"] = (10,1)\n",
    "plt.hist(BikeCount, bins = 20, edgecolor = 'black', color = 'lightblue', alpha = 0.7, linewidth = 1)\n",
    "sns.despine()\n",
    "\n",
    "plt.xlim(0, 4000)\n",
    "plt.ylim(0, 1000)\n",
    "\n",
    "plt.xticks(ticks = [0, 1000, 2000, 3000, 4000])\n",
    "plt.yticks(ticks = [0, 400, 800])\n",
    "\n",
    "plt.xlabel('Rented Bike Count')\n",
    "plt.ylabel('Frequency')\n",
    "\n",
    "plt.title('Rented Bike Count Distribution: Histogram')\n",
    "plt.show()\n",
    "\n",
    "# Boxplot\n",
    "plt.rcParams[\"figure.figsize\"] = (10,1)\n",
    "sns.boxplot(x = BikeCount, color = 'lightblue', width = 0.4, linewidth = 2)\n",
    "sns.despine(left = True)\n",
    "\n",
    "plt.xticks(ticks = [0, 1000, 2000, 3000, 4000])\n",
    "plt.tick_params(left = False)\n",
    "\n",
    "plt.xlim(0, 4000)\n",
    "\n",
    "plt.title('Rented Bike Count Distribution: Boxplot')\n",
    "plt.show()"
   ]
  },
  {
   "cell_type": "markdown",
   "id": "30379581-7f5b-4888-9c55-1664ae54ecd3",
   "metadata": {},
   "source": [
    "<div style=\"font-size: 13px\"> <b>Fig. 1.</b> Rented bike count distribution. Top: Histogram. Bottom: Boxplot. <br> </div>\n",
    "From the two plots, we see that the distribution has a positive skew. Multiple outliers are visible on the Boxplot.\n",
    "\n",
    "---"
   ]
  },
  {
   "cell_type": "markdown",
   "id": "aa57caa9-b4f6-44f1-a962-a12d554660d7",
   "metadata": {},
   "source": [
    "Next, we plot the following two violin plots, which show the Rented Bike Count for different values of the Month and the Hour respectively."
   ]
  },
  {
   "cell_type": "code",
   "execution_count": null,
   "id": "518a0dc5-0164-4004-a89e-91147d400064",
   "metadata": {
    "jupyter": {
     "source_hidden": true
    },
    "tags": []
   },
   "outputs": [],
   "source": [
    "# Task 5: Produce two Violin Plots: One showing Rented Bike Count for different values \n",
    "# of the Month, and the other showing Rented Bike Count for different values of the Hour\n",
    "\n",
    "# First Violin Plot\n",
    "plt.rcParams['figure.figsize'] = (17, 8)\n",
    "sns.violinplot(x = 'Month', y = 'Rented Bike Count', data = SBD, inner = 'quartile')\n",
    "plt.title('Violin plot: Rented Bike Count for different values of the Month')\n",
    "plt.show()\n",
    "\n",
    "# Second Violin Plot\n",
    "plt.rcParams['figure.figsize'] = (20, 4)\n",
    "sns.violinplot(x = 'Hour', y = 'Rented Bike Count', data = SBD, inner = 'quartile')\n",
    "plt.title('Violin plot: Rented Bike Count for different values of the Hour')\n",
    "plt.show()"
   ]
  },
  {
   "cell_type": "markdown",
   "id": "3e6843dd-26c9-4677-bb1d-9911c9118755",
   "metadata": {},
   "source": [
    "<div style=\"font-size: 13px\"> <b>Fig. 2.</b> Rented bike count distributions in the form of Violin Plots. Top: For different values of the Month. Bottom: For different values of the Hour.</div> <br>\n",
    "\n",
    "Note that the violin plots become thinner as the Rented Bike Count increases (this is more visible on the first plot). <br> This is analogous to the right tail of the histogram in Figure 1.\n",
    "\n",
    "---"
   ]
  },
  {
   "cell_type": "markdown",
   "id": "9b3c39ed-b2e1-4663-935f-866d0f0a4eef",
   "metadata": {},
   "source": [
    "We now use the first of two methods mentioned in the introduction to create and train a linear regression model. <b>We use 75% of our data for training and 25% for testing.</b> From this model we calculate 4 performance measures: <u>Rsquared</u> (R2), the <u>Root Mean Squared Error</u> (RMSE), the <u>Mean Absolute Error</u> (MAE) and the <u>Coefficient of Variation</u> (CV)."
   ]
  },
  {
   "cell_type": "code",
   "execution_count": null,
   "id": "2562f7f4-c403-44ca-99aa-1911f9fdfac1",
   "metadata": {
    "jupyter": {
     "source_hidden": true
    },
    "tags": []
   },
   "outputs": [],
   "source": [
    "# Task 6: From the full DataFrame, create a new DataFrame X which does not\n",
    "# contain Rented Bike Count, and a Series y which contains Rented Bike Count\n",
    "X = SBD.drop('Rented Bike Count', axis = 1)\n",
    "y = SBD['Rented Bike Count']"
   ]
  },
  {
   "cell_type": "code",
   "execution_count": null,
   "id": "bb6f28d3-aa8d-4f72-8803-433f6e55ae9b",
   "metadata": {
    "jupyter": {
     "source_hidden": true
    },
    "tags": []
   },
   "outputs": [],
   "source": [
    "# Task 7: Performing a Train-Test Split to create X_train, X_test,\n",
    "# y_train and y_test from the DataFrame X and the Series y\n",
    "X_train, X_test, y_train, y_test = train_test_split(X, y, test_size = 0.25)\n",
    "\n",
    "# Task 8: Creating and training a linear regression model \n",
    "regr = linear_model.LinearRegression()\n",
    "regr.fit(X_train, y_train)\n",
    "\n",
    "# Task 9: Using the trained model to generate y_pred, and then calculating the residual\n",
    "y_pred = regr.predict(X_test)\n",
    "resid = np.array(y_test - y_pred)"
   ]
  },
  {
   "cell_type": "code",
   "execution_count": null,
   "id": "9fdfc8fc-9294-4c46-967a-051cdc3691ea",
   "metadata": {
    "jupyter": {
     "source_hidden": true
    },
    "tags": []
   },
   "outputs": [],
   "source": [
    "# Task 10: Computing the 4 performance measures: Rsquared, RMSE, MAE and CV\n",
    "\n",
    "# Rsquared\n",
    "R2 = r2_score(y_test, y_pred)\n",
    "print('R2 is:', R2, '.')\n",
    "\n",
    "# Root Mean Squared Error\n",
    "RMSE = np.sqrt(np.mean(resid**2))\n",
    "print('The Root Mean Square Error is:', RMSE, '.')\n",
    "\n",
    "# Mean Absolute Error\n",
    "MAE = np.mean(np.abs(resid))\n",
    "print('The Mean Absolute Error is:', MAE, '.')\n",
    "\n",
    "# Coefficient of Variation\n",
    "CV = 100 * RMSE/np.mean(y_test)\n",
    "print('The Coefficient of Variation is:', round(CV), \"%\", '.')"
   ]
  },
  {
   "cell_type": "markdown",
   "id": "3b0fd157-d78e-4069-b153-e51e9d42989b",
   "metadata": {},
   "source": [
    "---\n",
    "Next, we use our trained model to produce the following 4 plots: <br> \n",
    "1. Histograms of y_test and y_pred (on the same plot) \n",
    "2. Scatter Diagram of the residue as a function of y_test\n",
    "3. Scatter Diagram of the residue as a function of X_test['Month']\n",
    "4. Scatter Diagram of the residue as a function of X_test['Rainfall(mm)']\n",
    "---"
   ]
  },
  {
   "cell_type": "code",
   "execution_count": null,
   "id": "2fe89179",
   "metadata": {
    "jupyter": {
     "source_hidden": true
    },
    "tags": []
   },
   "outputs": [],
   "source": [
    "# Task 11: Produce the 4 following plots:\n",
    "\n",
    "# Histograms of y_test and y_pred (on the same plot)\n",
    "plt.rcParams['figure.figsize'] = plt.rcParamsDefault['figure.figsize']\n",
    "plt.hist(y_test, bins = 30, edgecolor = 'black', color = 'red', alpha = 0.7, label = 'Test')\n",
    "plt.hist(y_pred, bins = 30, edgecolor = 'black', color = 'lightblue', alpha = 0.7, label = 'Predicted')\n",
    "sns.despine()\n",
    "\n",
    "plt.xlabel('Rented Bike Count: Test (Red) & Prediction (Blue)')\n",
    "plt.ylabel('Frequency')\n",
    "\n",
    "plt.legend()\n",
    "plt.title('Rented Bike Count Distribution: Histogram')\n",
    "plt.show()\n",
    "\n",
    "# Scatter Diagram of resid as a function of y_test\n",
    "plt.rcParams['figure.figsize'] = (17, 7)\n",
    "plt.scatter(y_test, resid, c = X_test['Month'], cmap = 'viridis')\n",
    "\n",
    "plt.xlim(-20, 3500)\n",
    "\n",
    "plt.xlabel('y_test')\n",
    "plt.ylabel('Residual')\n",
    "\n",
    "plt.colorbar()\n",
    "plt.grid(color = 'black', linewidth = 0.5)\n",
    "plt.title('Scatter diagram of resid against y_test')\n",
    "plt.show()\n",
    "\n",
    "# Scatter diagram of resid as a function of X_test['Month']\n",
    "plt.rcParams['figure.figsize'] = (17, 7)\n",
    "plt.scatter(X_test['Month'], resid, c = np.abs(resid), cmap = 'viridis')\n",
    "\n",
    "plt.xlabel(\"X_test['Month']\")\n",
    "plt.ylabel('Residual')\n",
    "\n",
    "plt.colorbar()\n",
    "plt.grid(color = 'black', linewidth = 0.5)\n",
    "plt.title(\"Scatter diagram of resid against X_test['Month']\")\n",
    "plt.show()\n",
    "\n",
    "# Scatter diagram of resid as a function of X_test['Rainfall(mm)']\n",
    "plt.rcParams[\"figure.figsize\"] = (17, 7)\n",
    "plt.scatter(X_test['Rainfall(mm)'], resid, c = np.abs(resid), cmap = 'viridis')\n",
    "\n",
    "plt.xlabel(\"X_test['Rainfall(mm)']\")\n",
    "plt.ylabel('Residual')\n",
    "\n",
    "plt.colorbar()\n",
    "plt.grid(color = 'black', linewidth = 0.5)\n",
    "plt.title(\"Scatter diagram of resid against X_test['Rainfall(mm)']\")\n",
    "plt.show()"
   ]
  },
  {
   "cell_type": "markdown",
   "id": "2b8bd3e3-34b9-4f80-92d7-398d7f1d1432",
   "metadata": {},
   "source": [
    "<div style=\"font-size: 13px\"> <b>Fig. 3.</b> From top to bottom: <br>\n",
    "    <ul>\n",
    "        <li> Histograms of the Rented Bike Counts for the Tested and Predicted Data Samples.\n",
    "        <li> Scatter Diagrams of the Residual as a function of y_test, X_test['Month'] and X_test['Rainfall(mm)'] respectively \n",
    "    </ul>\n",
    "<div>"
   ]
  },
  {
   "cell_type": "markdown",
   "id": "8e12bd87-9942-4da0-adaf-1598b7a450e0",
   "metadata": {
    "tags": []
   },
   "source": [
    "---\n",
    "#### Closing remarks regarding the Linear Regression Model:\n",
    "From the histogram, we see that the predicted Bike Count follows a relatively symmetric distribution, centred at approximately 750. This is in stark contrast to the tested Rented Bike Count, whose distribution is skewed positively. In particular, the very large number of occurances of zero (or very few) rented bikes is not captured accurately by the model. Finally, note that in the predicted Bike Count, we have instances of negative rented bikes. <br>\n",
    "\n",
    "All three scatter diagrams have the residual along the y-axis. Since \n",
    "$$residual = y_{test} - y_{pred},$$\n",
    "ideally we would like the residual to be approximately zero, which would correspond to a high concetration of points on or around the x-axis. For the first scatter diagram, small bike counts correspond to residual values relatively close to zero. However, as the bike counts increase, so do the residual values, indicating that our model isn't very accurate. For the last two scatter diagrams, there is a significant proportion of points taking large positive or negative values, illustrating the same point. Also, note that the overwhelming majority of bike rentals happen when there is no rainfall (as one would expect). This means that there aren't enough data points for Rainfall(mm) $> 0$  to train the model, which also contributes to inaccurate predictions.\n",
    "\n",
    "Finally, these conclusions are supported by our values for the 4 performance measures. Specifically, the value for R2 is not very close to 1, the two errors are quite large, and the coefficient of variation is also relatively large.\n",
    "\n",
    "---"
   ]
  },
  {
   "cell_type": "markdown",
   "id": "55c24c93-14cd-40b4-8f87-21cb9966ef5e",
   "metadata": {},
   "source": [
    "We now use the second of two methods mentioned in the introduction to create and train a regression tree model. From this model we again calculate 4 performance measures: <u>Rsquared</u> (R2), the <u>Root Mean Squared Error</u> (RMSE), the <u>Mean Absolute Error</u> (MAE) and the <u>Coefficient of Variation</u> (CV)."
   ]
  },
  {
   "cell_type": "code",
   "execution_count": null,
   "id": "d1497988-1113-4056-8130-01b9d100da91",
   "metadata": {
    "jupyter": {
     "source_hidden": true
    },
    "tags": []
   },
   "outputs": [],
   "source": [
    "# Task 12: Create and train a DecisionTreeRegressor with max_depth=8. Use this to obtain y_pred and the residual.\n",
    "regr = DecisionTreeRegressor(max_depth=8)\n",
    "regr.fit(X_train, y_train)\n",
    "y_pred = regr.predict(X_test)\n",
    "resid = np.array(y_test - y_pred)"
   ]
  },
  {
   "cell_type": "code",
   "execution_count": null,
   "id": "a3559254-4631-44bd-8494-ed9cf8322a91",
   "metadata": {
    "jupyter": {
     "source_hidden": true
    },
    "tags": []
   },
   "outputs": [],
   "source": [
    "# Computing the 4 performance measures: Rsquared, RMSE, MAE and CV\n",
    "\n",
    "# Rsquared\n",
    "R2 = r2_score(y_test, y_pred)\n",
    "print('R2 is:', R2)\n",
    "\n",
    "# Root Mean Squared Error\n",
    "RMSE = np.sqrt(np.mean(resid**2))\n",
    "print('The Root Mean Square Error is:', RMSE)\n",
    "\n",
    "# Mean Absolute Error\n",
    "MAE = np.mean(np.abs(resid))\n",
    "print('The Mean Absolute Error is:', MAE)\n",
    "\n",
    "# Coefficient of Variation\n",
    "CV = 100 * RMSE/np.mean(y_test)\n",
    "print('The Coefficient of Variation is:', round(CV), \"%\")"
   ]
  },
  {
   "cell_type": "code",
   "execution_count": null,
   "id": "364ba6b5-7c9b-4523-85c0-2a17c23d9ba3",
   "metadata": {
    "jupyter": {
     "source_hidden": true
    },
    "tags": []
   },
   "outputs": [],
   "source": [
    "# Plot the Histograms for y_test and y_pred (on the same plot)\n",
    "plt.rcParams[\"figure.figsize\"] = plt.rcParamsDefault[\"figure.figsize\"]\n",
    "plt.hist(y_test, bins=35, ec='k', color='red', alpha=0.7, label='Test')\n",
    "plt.hist(y_pred, bins=35, ec='k', color='lightblue', alpha=0.7, label='Predicted')\n",
    "sns.despine()\n",
    "\n",
    "plt.xlabel('Rented Bike Count: Test (Red) & Prediction (Blue)')\n",
    "plt.ylabel('Frequency')\n",
    "\n",
    "plt.xlim(0, 3500)\n",
    "\n",
    "plt.legend()\n",
    "plt.title('Rented Bike Count Distribution: Histogram')\n",
    "plt.show()"
   ]
  },
  {
   "cell_type": "markdown",
   "id": "69939888-ab82-4e86-a4e4-d153c82deac1",
   "metadata": {},
   "source": [
    "---\n",
    "#### Closing remarks regarding the Regression Tree Model:\n",
    "\n",
    "From the histograms, we see that the regression tree model does a better job of capturing the trend near zero than the linear regression model. It also avoids negative values for the bike counts. However, we still see significant differences in the two histograms. Most notably, the tall spikes in the blue histogram ideally would not exist.\n",
    "\n",
    "When it comes to the 4 performance measures, we see that this model is also not very accurate. However, it is more accurate than the linear regression model, since the value for R2 is closer to 1, the two errors are smaller, and the coefficient of variation is also lower."
   ]
  }
 ],
 "metadata": {
  "kernelspec": {
   "display_name": "Python 3 (ipykernel)",
   "language": "python",
   "name": "python3"
  },
  "language_info": {
   "codemirror_mode": {
    "name": "ipython",
    "version": 3
   },
   "file_extension": ".py",
   "mimetype": "text/x-python",
   "name": "python",
   "nbconvert_exporter": "python",
   "pygments_lexer": "ipython3",
   "version": "3.9.7"
  }
 },
 "nbformat": 4,
 "nbformat_minor": 5
}
